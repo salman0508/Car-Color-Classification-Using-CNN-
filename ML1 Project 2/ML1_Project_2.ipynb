{
 "cells": [
  {
   "cell_type": "code",
   "execution_count": 1,
   "id": "d80765b9",
   "metadata": {},
   "outputs": [],
   "source": [
    "import os\n",
    "import cv2\n",
    "import numpy as np\n",
    "from sklearn.model_selection import train_test_split\n"
   ]
  },
  {
   "cell_type": "code",
   "execution_count": 2,
   "id": "8ea27733",
   "metadata": {},
   "outputs": [],
   "source": [
    "train_path = 'E:/ML Internship/car/train'\n",
    "test_path = 'E:/ML Internship/car/test'\n",
    "val_path = 'E:/ML Internship/car/val'"
   ]
  },
  {
   "cell_type": "code",
   "execution_count": 3,
   "id": "22b97c2f",
   "metadata": {},
   "outputs": [
    {
     "name": "stdout",
     "output_type": "stream",
     "text": [
      "completed \n",
      "completed \n",
      "completed \n"
     ]
    }
   ],
   "source": [
    "#The code essentially defines two functions: preprocess_images, which reads, resizes, and \n",
    "#normalizes images, and preprocess_dataset, which processes images and assigns labels\n",
    "#based on class indices. This set of functions can be used to preprocess the images and \n",
    "#\n",
    "def preprocess_images(image_paths, target_size=(224, 224)):\n",
    "    processed_images = []\n",
    "    for path in image_paths:\n",
    "        image = cv2.imread(path)\n",
    "        resized_image = cv2.resize(image, target_size)\n",
    "        normalized_image = resized_image / 255.0\n",
    "        processed_images.append(normalized_image)\n",
    "    return processed_images\n",
    "\n",
    "def preprocess_dataset(dataset_path):\n",
    "    classes = os.listdir(dataset_path)\n",
    "    images = []\n",
    "    labels = []\n",
    "    for i, class_name in enumerate(classes):\n",
    "        class_path = os.path.join(dataset_path, class_name)\n",
    "        class_images = [os.path.join(class_path, img) for img in os.listdir(class_path)]\n",
    "        images.extend(class_images)\n",
    "        labels.extend([i] * len(class_images))  # Assign label based on class index\n",
    "    return preprocess_images(images), labels\n",
    "\n",
    "# Preprocess train, test, and val datasets\n",
    "X_train, y_train = preprocess_dataset(train_path)\n",
    "print(\"completed \")\n",
    "X_test, y_test = preprocess_dataset(test_path)\n",
    "print(\"completed \")\n",
    "X_val, y_val = preprocess_dataset(val_path)\n",
    "print(\"completed \")"
   ]
  },
  {
   "cell_type": "code",
   "execution_count": 4,
   "id": "16d186c3",
   "metadata": {},
   "outputs": [
    {
     "name": "stdout",
     "output_type": "stream",
     "text": [
      "completed\n",
      "completed\n",
      "completed\n",
      "completed\n",
      "completed\n",
      "completed\n"
     ]
    }
   ],
   "source": [
    "#Organize the preprocessed data into NumPy arrays\n",
    "X_train = np.array(X_train)\n",
    "print(\"completed\")\n",
    "y_train = np.array(y_train)\n",
    "print(\"completed\")\n",
    "X_test = np.array(X_test)\n",
    "print(\"completed\")\n",
    "y_test = np.array(y_test)\n",
    "print(\"completed\")\n",
    "X_val = np.array(X_val)\n",
    "print(\"completed\")\n",
    "y_val = np.array(y_val)\n",
    "print(\"completed\")\n"
   ]
  },
  {
   "cell_type": "code",
   "execution_count": 5,
   "id": "7d373516",
   "metadata": {},
   "outputs": [],
   "source": [
    "import tensorflow as tf\n",
    "from tensorflow.keras import layers, models"
   ]
  },
  {
   "cell_type": "code",
   "execution_count": 6,
   "id": "95592582",
   "metadata": {},
   "outputs": [],
   "source": [
    "num_classes=8\n",
    "model = models.Sequential()\n",
    "model.add(layers.Conv2D(32, (3, 3), activation='relu', input_shape=(224, 224, 3)))\n",
    "model.add(layers.MaxPooling2D((2, 2)))\n",
    "model.add(layers.Conv2D(64, (3, 3), activation='relu'))\n",
    "model.add(layers.MaxPooling2D((2, 2)))\n",
    "model.add(layers.Flatten())\n",
    "model.add(layers.Dense(64, activation='relu'))\n",
    "model.add(layers.Dense(num_classes, activation='softmax'))  # num_classes is the number of car colors"
   ]
  },
  {
   "cell_type": "code",
   "execution_count": null,
   "id": "ab47d3a3",
   "metadata": {},
   "outputs": [],
   "source": [
    "#DataAugmentation\n",
    "from tensorflow.keras.preprocessing.image import ImageDataGenerator\n",
    "\n",
    "datagen = ImageDataGenerator(\n",
    "    rotation_range=20,\n",
    "    width_shift_range=0.2,\n",
    "    height_shift_range=0.2,\n",
    "    horizontal_flip=True,\n",
    "    zoom_range=0.1\n",
    ")\n",
    "\n",
    "datagen.fit(X_train)\n"
   ]
  },
  {
   "cell_type": "code",
   "execution_count": null,
   "id": "e05370e4",
   "metadata": {},
   "outputs": [
    {
     "name": "stdout",
     "output_type": "stream",
     "text": [
      "Epoch 1/15\n",
      "271/271 [==============================] - 353s 1s/step - loss: 0.9445 - accuracy: 0.7135 - val_loss: 0.6768 - val_accuracy: 0.7679\n",
      "29/29 [==============================] - 13s 429ms/step - loss: 0.6970 - accuracy: 0.7549\n",
      "Test Loss: 0.6970\n",
      "Test Accuracy: 0.7549\n",
      "Model saved\n",
      "\n",
      "Epoch 2/15\n",
      "271/271 [==============================] - 336s 1s/step - loss: 0.3489 - accuracy: 0.8917 - val_loss: 0.2918 - val_accuracy: 0.9035\n",
      "29/29 [==============================] - 15s 499ms/step - loss: 0.3121 - accuracy: 0.9071\n",
      "Test Loss: 0.3121\n",
      "Test Accuracy: 0.9071\n",
      "Model saved\n",
      "\n",
      "Epoch 3/15\n"
     ]
    }
   ],
   "source": [
    "batch_size = 16\n",
    "epochs = 15\n",
    "\n",
    "# Define an optimizer\n",
    "optimizer = tf.keras.optimizers.Adam(learning_rate=0.001)\n",
    "\n",
    "# Compile the model with the defined optimizer\n",
    "model.compile(optimizer=optimizer, loss='sparse_categorical_crossentropy', metrics=['accuracy'])\n",
    "\n",
    "for epoch in range(epochs):\n",
    "    print(f\"Epoch {epoch+1}/{epochs}\")\n",
    "    \n",
    "    # Train the model for 1 epoch using the full training dataset\n",
    "    history = model.fit(X_train, y_train, batch_size=batch_size, epochs=1, validation_data=(X_val, y_val))\n",
    "    \n",
    "    # Evaluate the model on the test data\n",
    "    test_loss, test_accuracy = model.evaluate(X_test, y_test)\n",
    "    print(f\"Test Loss: {test_loss:.4f}\")\n",
    "    print(f\"Test Accuracy: {test_accuracy:.4f}\")\n",
    "    \n",
    "    # Save the model after each epoch\n",
    "    model.save(f'car_model_epoch{epoch+1:02d}.h5')\n",
    "    \n",
    "    print(\"Model saved\\n\")\n"
   ]
  },
  {
   "cell_type": "code",
   "execution_count": 6,
   "id": "770de229",
   "metadata": {},
   "outputs": [
    {
     "name": "stdout",
     "output_type": "stream",
     "text": [
      "WARNING:tensorflow:5 out of the last 5 calls to <function Model.make_predict_function.<locals>.predict_function at 0x000001EDA831D000> triggered tf.function retracing. Tracing is expensive and the excessive number of tracings could be due to (1) creating @tf.function repeatedly in a loop, (2) passing tensors with different shapes, (3) passing Python objects instead of tensors. For (1), please define your @tf.function outside of the loop. For (2), @tf.function has reduce_retracing=True option that can avoid unnecessary retracing. For (3), please refer to https://www.tensorflow.org/guide/function#controlling_retracing and https://www.tensorflow.org/api_docs/python/tf/function for  more details.\n",
      "1/1 [==============================] - 0s 129ms/step\n",
      "Predicted Class: 5\n",
      "Car Color is Red\n",
      "Probability Distribution: [[9.4057471e-16 7.0611201e-25 7.8597580e-08 3.8729978e-11 4.1009010e-12\n",
      "  9.9999988e-01 4.3437018e-15 7.9405149e-10]]\n"
     ]
    }
   ],
   "source": [
    "import cv2\n",
    "import numpy as np\n",
    "import tensorflow as tf\n",
    "\n",
    "# Load the trained model\n",
    "loaded_model = tf.keras.models.load_model('car_model_epoch02.h5')\n",
    "\n",
    "# Preprocess a new image\n",
    "def preprocess_image(image_path, target_size=(224, 224)):\n",
    "    image = cv2.imread(image_path)\n",
    "    resized_image = cv2.resize(image, target_size)\n",
    "    normalized_image = resized_image / 255.0\n",
    "    return np.expand_dims(normalized_image, axis=0)  # Add batch dimension\n",
    "\n",
    "# Path to the new image you want to predict\n",
    "new_image_path = 'C:/Users/92309/Downloads/output_faces/red.jpg'\n",
    "\n",
    "# Preprocess the new image\n",
    "preprocessed_image = preprocess_image(new_image_path)\n",
    "\n",
    "# Make a prediction\n",
    "predictions = loaded_model.predict(preprocessed_image)\n",
    "\n",
    "# Interpret the prediction\n",
    "predicted_class = np.argmax(predictions)\n",
    "\n",
    "# Define a dictionary to map predicted classes to car colors\n",
    "car_color_map = {\n",
    "    0: \"Black\",\n",
    "    1: \"Blue\",\n",
    "    2: \"Brown\",\n",
    "    3: \"Green\",\n",
    "    4: \"Grey\",\n",
    "    5: \"Red\",\n",
    "    6: \"White\",\n",
    "    7: \"Yellow\"\n",
    "}\n",
    "\n",
    "# Display the predicted class and the probability distribution\n",
    "print(f\"Predicted Class: {predicted_class}\")\n",
    "predicted_color = car_color_map.get(predicted_class, \"Unknown\")\n",
    "print(f\"Car Color is {predicted_color}\")\n",
    "print(\"Probability Distribution:\", predictions)\n"
   ]
  },
  {
   "cell_type": "code",
   "execution_count": null,
   "id": "12bf3e55",
   "metadata": {},
   "outputs": [],
   "source": []
  }
 ],
 "metadata": {
  "kernelspec": {
   "display_name": "Python 3 (ipykernel)",
   "language": "python",
   "name": "python3"
  },
  "language_info": {
   "codemirror_mode": {
    "name": "ipython",
    "version": 3
   },
   "file_extension": ".py",
   "mimetype": "text/x-python",
   "name": "python",
   "nbconvert_exporter": "python",
   "pygments_lexer": "ipython3",
   "version": "3.10.7"
  }
 },
 "nbformat": 4,
 "nbformat_minor": 5
}
